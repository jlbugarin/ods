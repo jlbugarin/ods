{
 "cells": [
  {
   "cell_type": "code",
   "execution_count": 3,
   "id": "193b83d9",
   "metadata": {},
   "outputs": [],
   "source": [
    "import numpy as np\n",
    "import pandas as pd\n",
    "from sklearn.linear_model import LogisticRegression"
   ]
  },
  {
   "cell_type": "code",
   "execution_count": 4,
   "id": "4c8806dc",
   "metadata": {},
   "outputs": [],
   "source": [
    "# Cargar los datos de entrenamiento\n",
    "data_train = pd.read_csv(\"hombres_mujeres_data_set_bin.csv\")\n",
    "\n",
    "# Cargar los datos de prueba\n",
    "data_test = pd.read_csv(\"hombres_mujeres_data_set_bin_test.csv\")\n",
    "\n",
    "# Crear el modelo\n",
    "model = LogisticRegression()\n",
    "\n",
    "# Entrenar el modelo\n",
    "model.fit(data_train[[\"talla\", \"peso\"]], data_train[\"clase\"])\n",
    "\n",
    "# Hacer predicciones\n",
    "y_pred = model.predict(data_test[[\"talla\", \"peso\"]])"
   ]
  },
  {
   "cell_type": "code",
   "execution_count": 5,
   "id": "3bd17e60",
   "metadata": {},
   "outputs": [
    {
     "name": "stdout",
     "output_type": "stream",
     "text": [
      "[0 1 0 1 1 0 1 1 0]\n"
     ]
    }
   ],
   "source": [
    "print(y_pred)"
   ]
  },
  {
   "cell_type": "code",
   "execution_count": null,
   "id": "ea20f3bd",
   "metadata": {},
   "outputs": [],
   "source": []
  }
 ],
 "metadata": {
  "kernelspec": {
   "display_name": "Python 3 (ipykernel)",
   "language": "python",
   "name": "python3"
  },
  "language_info": {
   "codemirror_mode": {
    "name": "ipython",
    "version": 3
   },
   "file_extension": ".py",
   "mimetype": "text/x-python",
   "name": "python",
   "nbconvert_exporter": "python",
   "pygments_lexer": "ipython3",
   "version": "3.10.9"
  }
 },
 "nbformat": 4,
 "nbformat_minor": 5
}
