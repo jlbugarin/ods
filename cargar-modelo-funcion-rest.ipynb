{
 "cells": [
  {
   "cell_type": "code",
   "execution_count": 1,
   "id": "b9de6a40-9c73-4813-b783-a19ba4f0bf60",
   "metadata": {},
   "outputs": [],
   "source": [
    "import pickle\n",
    "import pandas as pd"
   ]
  },
  {
   "cell_type": "code",
   "execution_count": 2,
   "id": "6016c4de-d936-4c4e-9d42-3e3b8b68ae2b",
   "metadata": {},
   "outputs": [],
   "source": [
    "from flask import Flask\n",
    "from flask_restful import Resource, Api\n",
    "from flask import request"
   ]
  },
  {
   "cell_type": "code",
   "execution_count": 3,
   "id": "41ac2e80-7b4d-4406-9b1e-87276f119f46",
   "metadata": {},
   "outputs": [
    {
     "name": "stderr",
     "output_type": "stream",
     "text": [
      "C:\\Users\\jlbug\\anaconda3\\lib\\site-packages\\sklearn\\base.py:299: UserWarning: Trying to unpickle estimator LogisticRegression from version 1.2.2 when using version 1.2.1. This might lead to breaking code or invalid results. Use at your own risk. For more info please refer to:\n",
      "https://scikit-learn.org/stable/model_persistence.html#security-maintainability-limitations\n",
      "  warnings.warn(\n"
     ]
    }
   ],
   "source": [
    "# Cargar el modelo\n",
    "with open(\"model.pkl\", \"rb\") as f:\n",
    "    model = pickle.load(f)"
   ]
  },
  {
   "cell_type": "code",
   "execution_count": 4,
   "id": "d216be48-d4e5-48b6-872f-982454103eff",
   "metadata": {},
   "outputs": [
    {
     "name": "stdout",
     "output_type": "stream",
     "text": [
      " * Serving Flask app '__main__'\n",
      " * Debug mode: off\n"
     ]
    },
    {
     "name": "stderr",
     "output_type": "stream",
     "text": [
      "WARNING: This is a development server. Do not use it in a production deployment. Use a production WSGI server instead.\n",
      " * Running on http://127.0.0.1:5000\n",
      "Press CTRL+C to quit\n",
      "C:\\Users\\jlbug\\anaconda3\\lib\\site-packages\\sklearn\\base.py:420: UserWarning: X does not have valid feature names, but LogisticRegression was fitted with feature names\n",
      "  warnings.warn(\n",
      "[2023-11-28 00:48:51,423] ERROR in app: Exception on /predict [POST]\n",
      "Traceback (most recent call last):\n",
      "  File \"C:\\Users\\jlbug\\anaconda3\\lib\\site-packages\\flask\\app.py\", line 1820, in full_dispatch_request\n",
      "    rv = self.dispatch_request()\n",
      "  File \"C:\\Users\\jlbug\\anaconda3\\lib\\site-packages\\flask\\app.py\", line 1796, in dispatch_request\n",
      "    return self.ensure_sync(self.view_functions[rule.endpoint])(**view_args)\n",
      "  File \"C:\\Users\\jlbug\\anaconda3\\lib\\site-packages\\flask_restful\\__init__.py\", line 493, in wrapper\n",
      "    return self.make_response(data, code, headers=headers)\n",
      "  File \"C:\\Users\\jlbug\\anaconda3\\lib\\site-packages\\flask_restful\\__init__.py\", line 522, in make_response\n",
      "    resp = self.representations[mediatype](data, *args, **kwargs)\n",
      "  File \"C:\\Users\\jlbug\\anaconda3\\lib\\site-packages\\flask_restful\\representations\\json.py\", line 21, in output_json\n",
      "    dumped = dumps(data, **settings) + \"\\n\"\n",
      "  File \"C:\\Users\\jlbug\\anaconda3\\lib\\json\\__init__.py\", line 231, in dumps\n",
      "    return _default_encoder.encode(obj)\n",
      "  File \"C:\\Users\\jlbug\\anaconda3\\lib\\json\\encoder.py\", line 199, in encode\n",
      "    chunks = self.iterencode(o, _one_shot=True)\n",
      "  File \"C:\\Users\\jlbug\\anaconda3\\lib\\json\\encoder.py\", line 257, in iterencode\n",
      "    return _iterencode(o, 0)\n",
      "  File \"C:\\Users\\jlbug\\anaconda3\\lib\\json\\encoder.py\", line 179, in default\n",
      "    raise TypeError(f'Object of type {o.__class__.__name__} '\n",
      "TypeError: Object of type ndarray is not JSON serializable\n",
      "127.0.0.1 - - [28/Nov/2023 00:48:51] \"POST /predict HTTP/1.1\" 500 -\n"
     ]
    }
   ],
   "source": [
    "\n",
    "def predict(data):\n",
    "    # Código para hacer las predicciones\n",
    "    y_pred = model.predict(data)\n",
    "    return y_pred\n",
    "\n",
    "class PredictAPI(Resource):\n",
    "    def post(self):\n",
    "        #data = request.get_json()\n",
    "        #print(data)\n",
    "        #df = pd.read_json(data)\n",
    "        #print(df)\n",
    "        \n",
    "        #df = pd.json_normalize(data)\n",
    "        #df.to_csv(\"predict.csv\", index=False)\n",
    "        \n",
    "        #df.to_csv(\"predic.csv\", index=True)\n",
    "        \n",
    "        #var_entradas=pd.read_csv(\"predict.csv\")\n",
    "        \n",
    "        \n",
    "        \n",
    "        y_pred = predict([[170,56,0]])\n",
    "        return y_pred\n",
    "\n",
    "app = Flask(__name__)\n",
    "api = Api(app)\n",
    "\n",
    "api.add_resource(PredictAPI, \"/predict\")\n",
    "\n",
    "app.run()"
   ]
  },
  {
   "cell_type": "code",
   "execution_count": null,
   "id": "9401cb94",
   "metadata": {},
   "outputs": [],
   "source": []
  }
 ],
 "metadata": {
  "kernelspec": {
   "display_name": "Python 3 (ipykernel)",
   "language": "python",
   "name": "python3"
  },
  "language_info": {
   "codemirror_mode": {
    "name": "ipython",
    "version": 3
   },
   "file_extension": ".py",
   "mimetype": "text/x-python",
   "name": "python",
   "nbconvert_exporter": "python",
   "pygments_lexer": "ipython3",
   "version": "3.10.9"
  }
 },
 "nbformat": 4,
 "nbformat_minor": 5
}
